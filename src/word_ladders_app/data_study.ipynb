{
 "cells": [
  {
   "cell_type": "code",
   "execution_count": 7,
   "id": "a9989829",
   "metadata": {},
   "outputs": [],
   "source": [
    "import pandas as pd\n",
    "import ast"
   ]
  },
  {
   "cell_type": "code",
   "execution_count": 9,
   "id": "6eac6e0b",
   "metadata": {},
   "outputs": [],
   "source": [
    "def try_parse_list(s):\n",
    "    \"\"\"Try to parse a string representation of a list into an actual list.\"\"\"\n",
    "    try:\n",
    "        return ast.literal_eval(s)\n",
    "    except (ValueError, SyntaxError):\n",
    "        return []"
   ]
  },
  {
   "cell_type": "code",
   "execution_count": null,
   "id": "b2dbfea9",
   "metadata": {},
   "outputs": [],
   "source": [
    "black_lists = pd.read_excel(\"./Liste word ladders.xlsx\")\n",
    "refusi = pd.read_excel(\"./refusi.xlsx\")\n",
    "\n",
    "df = pd.read_excel(\"./WORDLADDERS_laddercheck_20240301.xlsx\")\n",
    "df.ladder = df.ladder.apply(try_parse_list)\n",
    "\n",
    "map_refusi = {}\n",
    "for i in refusi.loc[:, [\"refuso\", \"corretto\"]].to_dict(orient=\"records\"):\n",
    "    map_refusi[i[\"refuso\"]] = i[\"corretto\"]\n",
    "\n",
    "def correct_refusi(word):\n",
    "    return map_refusi.get(word, word)\n",
    "\n",
    "df.ladder = df.ladder.apply(lambda x: [correct_refusi(w) for w in x])\n",
    "to_keep = (\n",
    "    df.ladder.apply(lambda x: len(x) > 0) &\n",
    "    df.ladder.apply(lambda x: all(len(i) > 2 for i in x))\n",
    ")\n",
    "df[\"to_keep\"] = tok_keep\n",
    "df.to_csv('./word_ladders_cleaned.csv', index=False, sep=\"\\t\")"
   ]
  },
  {
   "cell_type": "code",
   "execution_count": 11,
   "id": "6dafd937",
   "metadata": {},
   "outputs": [
    {
     "name": "stdout",
     "output_type": "stream",
     "text": [
      "treno altavelocità treno altavelocità\n",
      "costume per il caodanno costume per il caodanno\n",
      "cosa cosa\n",
      "royal gala royal\n"
     ]
    }
   ],
   "source": [
    "all_words = set()\n",
    "for ladder in df.ladder:\n",
    "    all_words.update(ladder)\n",
    "for i in map_refusi.keys() & all_words:\n",
    "    print(map_refusi[i], i)"
   ]
  },
  {
   "cell_type": "code",
   "execution_count": 5,
   "id": "2c658801",
   "metadata": {},
   "outputs": [
    {
     "data": {
      "text/plain": [
       "['città',\n",
       " 'como',\n",
       " 'lago',\n",
       " 'ramo',\n",
       " 'albero',\n",
       " 'picchio',\n",
       " 'uccello',\n",
       " 'aria',\n",
       " 'suono',\n",
       " 'musica',\n",
       " 'arte',\n",
       " 'pittura',\n",
       " 'colore',\n",
       " 'rosso',\n",
       " 'sangue',\n",
       " 'vena',\n",
       " 'arteria',\n",
       " 'strada',\n",
       " 'macchina',\n",
       " 'ruota']"
      ]
     },
     "execution_count": 5,
     "metadata": {},
     "output_type": "execute_result"
    }
   ],
   "source": [
    "df.ladder.iloc[52]"
   ]
  },
  {
   "cell_type": "code",
   "execution_count": 6,
   "id": "989227b5",
   "metadata": {},
   "outputs": [
    {
     "data": {
      "text/plain": [
       "0       [entità, oggetto, materiale, materiale organic...\n",
       "1       [entità, essere non vivente, oggetto, alimento...\n",
       "2       [entità, essere non vivente, oggetto, oggetto ...\n",
       "3                                  [tra, moto, motociclo]\n",
       "4       [astrazione, schema, tabella, foglio elettronico]\n",
       "                              ...                        \n",
       "6746    [parole, delle, controllo, proba, lampadina ta...\n",
       "6749                                 [lalaal, mela, mela]\n",
       "6750    [bla bla, caca, cibo, pianta, mela, qualcosa p...\n",
       "6751    [comune, villa, casa, tabola, legno, albero, m...\n",
       "6752          [oggetto, cibo, frutto, mela, granny smith]\n",
       "Name: ladder, Length: 5934, dtype: object"
      ]
     },
     "execution_count": 6,
     "metadata": {},
     "output_type": "execute_result"
    }
   ],
   "source": [
    "df.ladder"
   ]
  }
 ],
 "metadata": {
  "kernelspec": {
   "display_name": "Python 3",
   "language": "python",
   "name": "python3"
  },
  "language_info": {
   "codemirror_mode": {
    "name": "ipython",
    "version": 3
   },
   "file_extension": ".py",
   "mimetype": "text/x-python",
   "name": "python",
   "nbconvert_exporter": "python",
   "pygments_lexer": "ipython3",
   "version": "3.11.13"
  }
 },
 "nbformat": 4,
 "nbformat_minor": 5
}
